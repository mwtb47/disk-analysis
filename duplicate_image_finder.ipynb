{
 "cells": [
  {
   "cell_type": "code",
   "execution_count": null,
   "id": "b07d6910-75c3-45ad-a2ba-4feca8530ccc",
   "metadata": {},
   "outputs": [],
   "source": [
    "import itertools\n",
    "from PIL import Image\n",
    "import os\n",
    "\n",
    "import imagehash\n",
    "import pandas as pd"
   ]
  },
  {
   "cell_type": "code",
   "execution_count": null,
   "id": "df2a5cc1-4f8a-490f-b7e2-1eb01be37157",
   "metadata": {},
   "outputs": [],
   "source": [
    "class Duplicates:\n",
    "    \"\"\"Class to find duplicate images.\n",
    "    \n",
    "    Arguments\n",
    "        directories - list of directories to find images in. (Must be\n",
    "            full directory path).\n",
    "        extensions - list of file extensions to include. (Does not \n",
    "            support HEIC).\n",
    "        hash_size - integer size of the average hash. A larger size \n",
    "            picks up more detail in the image, reducing the chance that\n",
    "            similar, but different, images share the same hash. It also\n",
    "            lengthens the process time.\n",
    "    \"\"\"\n",
    "    def __init__(self, directories, extensions, hash_size):\n",
    "        self.directories = directories\n",
    "        self.extensions = extensions\n",
    "        self.hash_size = hash_size\n",
    "        \n",
    "    def find_images(self):\n",
    "        \"\"\"Find images in all directories listed. \n",
    "        \n",
    "        Walks through each of the specified directories and appends any\n",
    "        files containing one of the specified file extensions to a list. \n",
    "        \"\"\"\n",
    "        images = []\n",
    "        \n",
    "        for directory in self.directories:\n",
    "            for root, dirs, files in os.walk(directory):\n",
    "                for file in files:\n",
    "                    if any(ext in file.lower() for ext in self.extensions):\n",
    "                        images.append(os.path.join(root, file))\n",
    "        \n",
    "        self.images = images\n",
    "        \n",
    "    def avg_hash(self, file):\n",
    "        \"\"\"Calculate the average hash for a file using imagehash.\n",
    "        \n",
    "        Returns\n",
    "            Average hash array for the file.\n",
    "        \"\"\"\n",
    "        return imagehash.average_hash(Image.open(file), \n",
    "                                      hash_size=self.hash_size)\n",
    "    \n",
    "    def get_hashes(self):\n",
    "        \"\"\"Calculate average hashes for all images.\n",
    "        \n",
    "        Creates a dictionary with each filepath as a key and each value\n",
    "        as the file's average hash. \n",
    "        \"\"\"\n",
    "        self.hashes = {image: self.avg_hash(image) for image in self.images}\n",
    "        \n",
    "    def dataframe(self):\n",
    "        \"\"\"Create a dataframe to compare the similarity of image hashes.\n",
    "        \n",
    "        All pairwise combinations of the image files found in the\n",
    "        directories are put in a data frame. A third column, 'score', is\n",
    "        the difference between the hashes for the two images.\n",
    "        \n",
    "        Returns\n",
    "            Data frame sorted by 'score' in ascending order.\n",
    "        \"\"\"\n",
    "        df = pd.DataFrame(\n",
    "            {\n",
    "                'img_1': [i[0] for i in itertools.combinations(self.images, 2)],\n",
    "                'img_2': [i[1] for i in itertools.combinations(self.images, 2)],\n",
    "            }\n",
    "        )\n",
    "\n",
    "        df['score'] = [self.hashes[img_1] - self.hashes[img_2] \n",
    "                       for img_1, img_2 in zip(df['img_1'], df['img_2'])]\n",
    "        \n",
    "        df = df.sort_values('score')\n",
    "        \n",
    "        return df"
   ]
  },
  {
   "cell_type": "code",
   "execution_count": null,
   "id": "7049eb8f-136f-4acd-a92d-bf7d44eb90e8",
   "metadata": {},
   "outputs": [],
   "source": [
    "directories = [\n",
    "    '/Users/xx/Pictures', \n",
    "    '/Users/xx/Documents',\n",
    "]\n",
    "extensions = ['.gif', '.ico', '.jpeg', '.jpg', '.png', '.tiff']"
   ]
  },
  {
   "cell_type": "code",
   "execution_count": null,
   "id": "ac96d981-3aff-4685-bf53-39686fb132df",
   "metadata": {},
   "outputs": [],
   "source": [
    "dup = Duplicates(directories, extensions, 16)\n",
    "dup.find_images()\n",
    "dup.get_hashes()\n",
    "df = dup.dataframe()"
   ]
  },
  {
   "cell_type": "code",
   "execution_count": null,
   "id": "4b8e2b1f-836d-4218-a9e1-309981f3b566",
   "metadata": {},
   "outputs": [],
   "source": [
    "df"
   ]
  },
  {
   "cell_type": "code",
   "execution_count": null,
   "id": "8cca80f0-b407-451d-be1c-bc6ca17ce1b5",
   "metadata": {},
   "outputs": [],
   "source": []
  }
 ],
 "metadata": {
  "kernelspec": {
   "display_name": "Python 3 (ipykernel)",
   "language": "python",
   "name": "python3"
  },
  "language_info": {
   "codemirror_mode": {
    "name": "ipython",
    "version": 3
   },
   "file_extension": ".py",
   "mimetype": "text/x-python",
   "name": "python",
   "nbconvert_exporter": "python",
   "pygments_lexer": "ipython3",
   "version": "3.9.6"
  }
 },
 "nbformat": 4,
 "nbformat_minor": 5
}
